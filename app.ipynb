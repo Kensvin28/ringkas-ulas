{
 "cells": [
  {
   "cell_type": "code",
   "execution_count": 1,
   "metadata": {},
   "outputs": [
    {
     "name": "stdout",
     "output_type": "stream",
     "text": [
      "^C\n"
     ]
    }
   ],
   "source": [
    "# Install libraries and load env\n",
    "!pip install transformers sentence_transformers langchain openai python-dotenv\n",
    "!pip install chromadb faiss-gpu\n",
    "!pip install pandas emoji\n",
    "!pip install gradio"
   ]
  },
  {
   "cell_type": "code",
   "execution_count": null,
   "metadata": {},
   "outputs": [],
   "source": [
    "import re\n",
    "import requests\n",
    "import pandas as pd\n",
    "import string\n",
    "import unicodedata as uni\n",
    "import emoji\n",
    "from langchain.chat_models import ChatOpenAI\n",
    "from langchain.embeddings import HuggingFaceEmbeddings\n",
    "from langchain.document_loaders import DataFrameLoader\n",
    "from langchain.text_splitter import RecursiveCharacterTextSplitter\n",
    "from langchain.vectorstores import FAISS\n",
    "from langchain.chains import RetrievalQA\n",
    "import gradio as gr"
   ]
  },
  {
   "cell_type": "code",
   "execution_count": null,
   "metadata": {},
   "outputs": [],
   "source": [
    "%load_ext dotenv\n",
    "%dotenv ./openai.env"
   ]
  },
  {
   "cell_type": "code",
   "execution_count": null,
   "metadata": {},
   "outputs": [],
   "source": [
    "SHOPEE_API_URL = '''https://shopee.co.id/api/v2/item/get_ratings?filter=0&flag=1&itemid={item_id}&limit=20&offset={offset}&shopid={shop_id}&type=0'''\n",
    "shop_id = \"\"\n",
    "item_id = \"\"\n",
    "item = {}\n",
    "LIMIT = 1000 # Limit to 1000 reviews so that processing does not take too long\n",
    "\n",
    "def get_product_id(URL):\n",
    "    # Get shop id and item id from input URL\n",
    "    r = re.search(r\"i\\.(\\d+)\\.(\\d+)\", URL)\n",
    "    shop_id, item_id = r[1], r[2]\n",
    "    return shop_id, item_id\n",
    "\n",
    "def scrape(URL):\n",
    "    try:\n",
    "        shop_id, item_id = get_product_id(URL)\n",
    "    except:\n",
    "        return None\n",
    "\n",
    "    offset = 0\n",
    "    reviews = []\n",
    "    while True:\n",
    "        # Get JSON data using shop_id and item_id from input URL\n",
    "        data = requests.get(\n",
    "            SHOPEE_API_URL.format(shop_id=shop_id, item_id=item_id, offset=offset)\n",
    "        ).json()\n",
    "\n",
    "        i = 1\n",
    "        for i, review in enumerate(data[\"data\"][\"ratings\"], 1):\n",
    "            reviews.append(review[\"comment\"])\n",
    "\n",
    "        if i % 20:\n",
    "            break\n",
    "\n",
    "        offset += 20\n",
    "        if (offset >= LIMIT):\n",
    "            break\n",
    "\n",
    "    df = pd.DataFrame(reviews, columns=[\"comment\"])\n",
    "\n",
    "    return df\n",
    "\n",
    "# Clean\n",
    "def clean(df):\n",
    "    df = df.dropna().copy().reset_index(drop=True) # drop reviews with empty comments\n",
    "    df = df[df['comment'] != \"\"].reset_index(drop=True) # remove empty reviews\n",
    "    df['comment'] = df['comment'].apply(lambda x: clean_text(x)) # clean text\n",
    "    df = df[df['comment'] != \"\"].reset_index(drop=True) # remove empty reviews\n",
    "    return df\n",
    "\n",
    "def clean_text(text):\n",
    "    text = uni.normalize('NFKD', text) # normalise characters\n",
    "    text = emoji.replace_emoji(text, '') # remove emoji\n",
    "    text = re.sub(r'(\\w)\\1{2,}', r'\\1', text) # repeated chars\n",
    "    text = re.sub(r'[ ]+', ' ', text).strip() # remove extra spaces\n",
    "    return text"
   ]
  },
  {
   "cell_type": "code",
   "execution_count": null,
   "metadata": {},
   "outputs": [],
   "source": [
    "# LLM\n",
    "OpenAIModel = \"gpt-3.5-turbo\"\n",
    "llm = ChatOpenAI(model=OpenAIModel, temperature=0.1)\n",
    "\n",
    "# Embeddings\n",
    "embeddings = HuggingFaceEmbeddings(model_name=\"Blaxzter/LaBSE-sentence-embeddings\")\n",
    "\n",
    "cache_URL = \"\"\n",
    "db = None\n",
    "qa = None\n",
    "\n",
    "def generate(URL, query):\n",
    "  global cache_URL, db, qa\n",
    "  if URL != cache_URL:\n",
    "    # Get reviews\n",
    "    try:\n",
    "      reviews = scrape(URL)\n",
    "      # Clean reviews\n",
    "      cleaned_reviews = clean(reviews)\n",
    "      # Load data\n",
    "      loader = DataFrameLoader(cleaned_reviews, page_content_column=\"comment\")\n",
    "      documents = loader.load()\n",
    "    except Exception as e:\n",
    "      return \"Error getting reviews: \" + str(e)\n",
    "\n",
    "    # Split text\n",
    "    text_splitter = RecursiveCharacterTextSplitter(chunk_size=1000, chunk_overlap=50)\n",
    "    docs = text_splitter.split_documents(documents)\n",
    "    cache_URL = URL\n",
    "    # Vector store\n",
    "    db = FAISS.from_documents(docs, embeddings)\n",
    "    # Chain to answer questions\n",
    "    qa = RetrievalQA.from_chain_type(llm=llm, retriever=db.as_retriever())\n",
    "  return qa.run(query)"
   ]
  },
  {
   "cell_type": "code",
   "execution_count": null,
   "metadata": {},
   "outputs": [],
   "source": [
    "# Gradio\n",
    "product_box = gr.Textbox(label=\"URL Produk\", placeholder=\"URL produk dari Shopee Indonesia\")\n",
    "query_box = gr.Textbox(lines=2, label=\"Kueri\",placeholder=\"Contoh: Apa yang orang katakan tentang kualitas produknya?, Bagaimana pendapat orang yang kurang puas dengan produknya?\")\n",
    "\n",
    "gr.Interface(\n",
    "    fn=generate,\n",
    "    inputs=[product_box, query_box],\n",
    "    outputs=gr.Textbox(label=\"Jawaban\"),\n",
    "    title=\"RingkasUlas\",\n",
    "    description=\"Bot percakapan yang bisa meringkas ulasan-ulasan produk di Shopee Indonesia (https://shopee.co.id/). Harap bersabar, bot ini dapat memakan waktu agak lama saat mengambil ulasan dari Shopee dan menyiapkan jawabannya.\",\n",
    "    allow_flagging=\"never\",\n",
    "    examples=[\n",
    "        [\"https://shopee.co.id/Bantal-Selimut-Balmut-Mini-Karakter-kain-CVC-i.2392232.8965506?xptdk=324a77c0-7860-4059-b00d-5d3b340f8dfe\", \"Apa yang orang katakan tentang kualitas produknya?\"],\n",
    "        [\"https://shopee.co.id/Bantal-Selimut-Balmut-Mini-Karakter-kain-CVC-i.2392232.8965506?xptdk=324a77c0-7860-4059-b00d-5d3b340f8dfe\", \"Bagaimana pendapat orang yang kurang puas dengan produknya?\"],\n",
    "    ],\n",
    ").launch()"
   ]
  }
 ],
 "metadata": {
  "kernelspec": {
   "display_name": "Python 3",
   "language": "python",
   "name": "python3"
  },
  "language_info": {
   "codemirror_mode": {
    "name": "ipython",
    "version": 3
   },
   "file_extension": ".py",
   "mimetype": "text/x-python",
   "name": "python",
   "nbconvert_exporter": "python",
   "pygments_lexer": "ipython3",
   "version": "3.12.0"
  }
 },
 "nbformat": 4,
 "nbformat_minor": 2
}
